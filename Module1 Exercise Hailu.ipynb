{
 "cells": [
  {
   "cell_type": "markdown",
   "metadata": {},
   "source": [
    "## Questions"
   ]
  },
  {
   "cell_type": "markdown",
   "metadata": {},
   "source": [
    "1. What is a hardware?"
   ]
  },
  {
   "cell_type": "markdown",
   "metadata": {},
   "source": [
    "_Hardware refers to the physical components of a computer. It is any part of the computer that we can touch.  Examples of hardware: the Processor, Memory Devices, Monitor, Printer, Keyboard, Mouse, and the Central Processing Unit._\n"
   ]
  },
  {
   "cell_type": "markdown",
   "metadata": {},
   "source": [
    "2. What is a software?"
   ]
  },
  {
   "cell_type": "markdown",
   "metadata": {},
   "source": [
    "_Software is a set of instructions, procedures, documentation that performs different tasks on a computer system. It is a programming code executed on a computer processor.  Examples: Ms Word, Excel, Power Point, Google Chrome, Photoshop, MySQL etc._"
   ]
  },
  {
   "cell_type": "markdown",
   "metadata": {},
   "source": [
    "3. Convert 10011001 to a decimal number"
   ]
  },
  {
   "cell_type": "markdown",
   "metadata": {},
   "source": [
    "$ 10011001 = 1 \\times 2^7 + 0 \\times 2^6 + 0 \\times 2^5 + 1 \\times 2^4 + 1 \\times 2^3 + 0 \\times 2^2 + 0 \\times 2^1 + 1 \\times 2^0 $\n",
    "\n",
    "$10011001 = 128 + 16 + 8 + 1$\n",
    "$=153$"
   ]
  },
  {
   "cell_type": "markdown",
   "metadata": {},
   "source": [
    "4. Convert 11101100 to a decimal number"
   ]
  },
  {
   "cell_type": "markdown",
   "metadata": {},
   "source": [
    "$ 11101100 = 1 \\times 2^7 + 1 \\times 2^6 + 1 \\times 2^5 + 0 \\times 2^4 + 1 \\times 2^3 + 1 \\times 2^2 + 0 \\times 2^1 + 0 \\times 2^0 $\n",
    "\n",
    "$11101100 = 128 + 64 + 32 + 8 + 4$\n",
    "$=236$"
   ]
  },
  {
   "cell_type": "markdown",
   "metadata": {},
   "source": [
    "5. Decode this secret message:\n",
    "01001100 01101111 01100111 01101001 01100011"
   ]
  },
  {
   "cell_type": "markdown",
   "metadata": {},
   "source": [
    "$ 01001100 ~~ 01101111 ~~ 01100111 ~~ 01101001 ~~ 01100011 = \\\\ \\big(0 \\times 2^7 + 1 \\times 2^6 + 0 \\times 2^5 + 0 \\times 2^4 + 1 \\times 2^3 + 1 \\times 2^2 + 0 \\times 2^1 + 0 \\times 2^0 \\big)~\\big(0 \\times 2^7 + 1 \\times 2^6 + 1 \\times 2^5 + 0 \\times 2^4 + 1 \\times 2^3 + 1 \\times 2^2 + 1 \\times 2^1 + 1 \\times 2^0 \\big)~\\big(0 \\times 2^7 + 1 \\times 2^6 + 1 \\times 2^5 + 0 \\times 2^4 + 0 \\times 2^3 + 1 \\times 2^2 + 1 \\times 2^1 + 1 \\times 2^0 \\big)~\\big(0 \\times 2^7 + 1 \\times 2^6 + 1 \\times 2^5 + 0 \\times 2^4 + 1 \\times 2^3 + 0 \\times 2^2 + 0 \\times 2^1 + 1 \\times 2^0 \\big)~\\big(0 \\times 2^7 + 1 \\times 2^6 + 1 \\times 2^5 + 0 \\times 2^4 + 0 \\times 2^3 + 0 \\times 2^2 + 1 \\times 2^1 + 1 \\times 2^0 \\big)\\\\= \\big(64+8+4\\big)\\big(64+32+8+4+2+1\\big)\\big(64+32+4+2+1\\big)\\big(64+32+8+1\\big)\\big(64+32+2+1\\big)\\\\=\n",
    "\\Large{76}~~\\Large{111}~~\\Large{103}~~\\Large{105}~~\\Large{99}\\\\=\n",
    "\\Large{L}~~\\Large{o}~~\\Large{g}~~\\Large{i}~~\\Large{c}$\n",
    "\n"
   ]
  },
  {
   "cell_type": "markdown",
   "metadata": {},
   "source": [
    "6. Identify and explain stages of Programming."
   ]
  },
  {
   "cell_type": "markdown",
   "metadata": {},
   "source": [
    "\n",
    "Assuming we defined the problem statement (which is part of the first stage, i.e. Analysis) and have a fairly good picture of the problem. The following are steps one need to follow in the program development life cycle.\n",
    "\n",
    "### 1. Analysis stage \n",
    "In this stage we determine the requirements like variables, functions, etc. to solve the problem. That means we collect the necessary resources to solve the problem at hand. In this phase we identify the problem, divide solve each subunits, and lastly regroup the solutions as a whole.\n",
    "\n",
    "### 2. Plan \n",
    "During this phase, we develop a step by step procedure to solve the problem using the specification given in the previous phase. This stage is cruicial as we write the solution in step by step statements. This step includes IPO (Input Process Output) and Algorithm.\n",
    "\n",
    "### 3. Coding stage \n",
    "This phase uses a programming language to write or implement the actual programming instructions for the steps defined in the previous phase. It is in this phase that we build the actual program. That means we write the program to solve the given problem using programming languages of our preferences such as Python, C, C++, Java, etc.,\n",
    "\n",
    "### 4. Testing stage\n",
    "Reminding ourselves of the moto GIGO (Garbage In Garbage Out) it is advisable to check whether our code (written in the previous step) is actually solving the specified problem or not. That means we test the program whether it is solving the problem for various input data values or not. It is actually crucial to see whethere the code is doing what we want it to do. You need to conduct unit test (test each code), system test (test the entire code), and  integration test (will it work for different platforms such as Mac, Windows, iPad, Mobile etc.). \n",
    "\n",
    "### 5. Maintenance\n",
    "During this phase, the program is actively used by the users. In this phase, the solution (program) is used by the end-user. If the user encounters any problem or wants any improvement, then we need to repeat all the phases from the starting, so that the encountered problem is solved. This stage involves fixing bugs (if any), add features for enhancement, and document every change you made. "
   ]
  },
  {
   "cell_type": "markdown",
   "metadata": {},
   "source": [
    "7. You need to write a program to compute total sales amount when sales tax is 5%. Identify IPO (inpt, process, output) for this program."
   ]
  },
  {
   "cell_type": "raw",
   "metadata": {},
   "source": [
    "INPUT: Unit Price\n",
    "PROCESS: 5% tax\n",
    "OUTPUT: Total Sale\n",
    "\n",
    "Pseudocode\n",
    "Total_Sale = 0\n",
    "Tax = Total_Sale * 0.05 \n",
    "Total_Sale = Total_Sale + Tax\n"
   ]
  },
  {
   "cell_type": "markdown",
   "metadata": {},
   "source": [
    "8. Identify IPO for converting liters to US gallons."
   ]
  },
  {
   "cell_type": "raw",
   "metadata": {},
   "source": [
    "INPUT: Liters\n",
    "PROCESS: Convert Liter to Gallons (1 Liter equals 0.264172 Gallons)\n",
    "OUTPUT: Gallons\n",
    "\n",
    "Pseudocode\n",
    "Amount_Gallon = 0\n",
    "Amount_Gallon = Amount_Liter * 0.264172 \n"
   ]
  },
  {
   "cell_type": "markdown",
   "metadata": {},
   "source": [
    "9. Identify IPO for computing a worker's pay. What information/data do you need?"
   ]
  },
  {
   "cell_type": "markdown",
   "metadata": {},
   "source": [
    "INPUT: Name, Number of Hours Worked,Tax Code, Overtime \n",
    "PROCESS: Calculate Total Pay based on the above information (Total pay = Hours per week + overtime)\n",
    "OUTPUT: Total Pay\n",
    "\n",
    "\n",
    "Pseudocode\n",
    "Total pay = Hours per week + Overtime\n"
   ]
  }
 ],
 "metadata": {
  "kernelspec": {
   "display_name": "Python 3",
   "language": "python",
   "name": "python3"
  },
  "language_info": {
   "codemirror_mode": {
    "name": "ipython",
    "version": 3
   },
   "file_extension": ".py",
   "mimetype": "text/x-python",
   "name": "python",
   "nbconvert_exporter": "python",
   "pygments_lexer": "ipython3",
   "version": "3.7.6"
  }
 },
 "nbformat": 4,
 "nbformat_minor": 4
}
