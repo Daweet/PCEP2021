{
 "cells": [
  {
   "cell_type": "markdown",
   "metadata": {},
   "source": [
    "## Exercises\n",
    "### Write the pseudocode for these problems. \n",
    "\n",
    "#### Define the problem by constructing an IPO diagram showing input, output, and processing steps\n",
    "Ask yourself\n",
    "- What control structures (sequence, selection and repetition) are required?\n",
    "- What variables are required?\n",
    "\n",
    "Show a check of your solution with **test data** for at least **two valid test cases**\n",
    "If you use the numbers provided in the example then the correct pseudocode will calculate the same result.\n",
    "    "
   ]
  },
  {
   "cell_type": "markdown",
   "metadata": {},
   "source": [
    "#### 1. Find the average score\n",
    "A program is needed to prompt the user operator for exam scores, calculate the average score and display the result to the screen. The average score is calculated as the sum of the scores divided by the number of scores."
   ]
  },
  {
   "cell_type": "markdown",
   "metadata": {},
   "source": [
    "## IPO\n",
    "\n",
    "INPUT: Exam scores  \n",
    "PROCESS: Average score (Total score divided by the number of scores)  \n",
    "OUTPUT: Average score\n",
    "\n",
    "## Pseudocode  \n",
    "BEGIN  \n",
    "    SET COUNTER TO 1  \n",
    "    SET TOTAL_SCORE TO 0  \n",
    "    LOOP COUNTER <= N  \n",
    "        PROMPT USER FOR A SCORE   \n",
    "        GET SCORE  \n",
    "        ADD SCORE TO TOTAL_SCORE  \n",
    "        ADD 1 TO COUNTER  \n",
    "    ENDLOOP  \n",
    "    AVERAGE = DIVIDE TOTAL_SCORE  BY N  \n",
    "    PRINT AVERAGE  \n",
    "   \n",
    "END  "
   ]
  },
  {
   "cell_type": "markdown",
   "metadata": {},
   "source": [
    "#### 2. How much water runs off a roof in a rain storm?\n",
    "To calculate the runoff from any given rainfall: Take the dimensions of the footprint of the roof and convert them to inches. (So, a 50' x 20' roof is 600\" x 240\"). Multiply the roof dimensions by the number of inches of rainfall. As an example, 600\" x 240\" x 1\" = 144,000 cubic inches of water for an inch of rainfall. Divide that result by 231 to get the number of gallons (because 1 gallon = 231 cubic inches). (144,000/231 = 623.38)."
   ]
  },
  {
   "cell_type": "markdown",
   "metadata": {},
   "source": [
    "## IPO\n",
    "\n",
    "INPUT: Dimensions of footprint, number of inches rainfall \n",
    "PROCESS: \n",
    "- Convert dimension to inches,  \n",
    "- Multiply the roof dimension by the number of rainfall,  \n",
    "- Divide the previous result by 231 to get the number of gallons  \n",
    "\n",
    "\n",
    "OUTPUT: Runoff from rainfall (in Gallons)\n",
    "\n",
    "## Pseudocode\n",
    "\n",
    "BEGIN  \n",
    "    _take measurements propmt for input_ \n",
    "    \n",
    "    Length of roof (in ft.)  \n",
    "    Width of roof (in ft.) \n",
    "    Inches_of_Rainfall = 1 in\n",
    "    \n",
    "    _convert dimension into inches_ \n",
    "    \n",
    "    Length of roof (in in.) = Length of roof (in ft.) * 12\n",
    "    Width of roof (in in.) = Width of roof (in ft.) * 12\n",
    "    \n",
    "    _Calculate roof dimension_\n",
    "    Roof_area = Length of roof (in in.)* Width of roof (in in.)\n",
    "    \n",
    "    _Calculate rainfall water per inches_ \n",
    "    Rainfall_roof = Roof_area * Inches_of_Rainfall\n",
    "    \n",
    "    _Rainfall in Gallons_\n",
    "    Rainfall_roof_Gallons = Rainfall_roof /231\n",
    "   \n",
    "END "
   ]
  },
  {
   "cell_type": "markdown",
   "metadata": {},
   "source": [
    "#### 3. Process customer record\n",
    "A program is required to read a customer’s name, a purchase amount and a tax code. The tax code has been validated and will be one of the following: 0 tax exempt (0%) 1 state sales tax only (3%) 2 federal and state sales tax (5%) 3 special sales tax (7%) The program must then compute the sales tax and the total amount due,and print the customer’s name, purchase amount, sales tax and total amount due."
   ]
  },
  {
   "cell_type": "markdown",
   "metadata": {},
   "source": [
    "## IPO\n",
    "\n",
    "INPUT: Customer name, purchase amount, tax code \n",
    "PROCESS: \n",
    "- 0 = tax exempt 0%,  \n",
    "- 1 = state sale tax:  3%,  \n",
    "- 2 = federal and state saless tax:  5%,  \n",
    "- 3 = special saless tax:  7%,  \n",
    "\n",
    "\n",
    "OUTPUT: \n",
    "- Compute sales and total amount due\n",
    "- print customer's name, purchase amount, sales tax, and total amount due \n",
    "\n",
    "## Pseudocode\n",
    "BEGIN\n",
    "\n",
    "    prompt user for name\n",
    "    Get name\n",
    "    prompt user for purchase amount\n",
    "    Get amount\n",
    "    prompt user for tax code\n",
    "    Get tax code\n",
    "    \n",
    "    If tax code is 0 \n",
    "        tax_rate = 0%\n",
    "    Else if tax code is 1 \n",
    "        tax_rate = 3%\n",
    "    Else if tax code is 2\n",
    "        tax_rate = 5%\n",
    "    Else if tax code is 3\n",
    "        tax_rate = 7%\n",
    "    Else\n",
    "        error message\n",
    "        \n",
    "        \n",
    "    total = purchased amount + purchased amount * tax_rate\n",
    "    \n",
    "    print name, purchased amount, sales tax and total.\n",
    "    \n",
    "END"
   ]
  },
  {
   "cell_type": "markdown",
   "metadata": {},
   "source": [
    "#### 4. Calculate employee's pay \n",
    "A program is required by a company to read an employee’s number, pay rate and the number of hours worked in a week. The program is then to validate the pay rate field and the hours worked field and, if valid, compute the employee’s weekly pay and then print it and the input data.\n",
    "\n",
    "Validation: According to the company’s rules, the maximum hours an employee can work per week is 60 hours, and the maximum hourly rate is $25.00 per hour. If the hours worked field or the hourly rate field is out of range, the input data and an appropriate message are to be printed and the employee’s weekly pay is not to be calculated.\n",
    "\n",
    "Weekly pay calculation: Weekly pay is calculated as hours worked times pay rate. If more than 35 hours are worked, payment for the overtime hours worked is calculated at time-and-a-half."
   ]
  },
  {
   "cell_type": "markdown",
   "metadata": {},
   "source": [
    "Type Markdown and LaTeX:  𝛼2"
   ]
  }
 ],
 "metadata": {
  "kernelspec": {
   "display_name": "Python 3",
   "language": "python",
   "name": "python3"
  },
  "language_info": {
   "codemirror_mode": {
    "name": "ipython",
    "version": 3
   },
   "file_extension": ".py",
   "mimetype": "text/x-python",
   "name": "python",
   "nbconvert_exporter": "python",
   "pygments_lexer": "ipython3",
   "version": "3.7.6"
  }
 },
 "nbformat": 4,
 "nbformat_minor": 2
}
